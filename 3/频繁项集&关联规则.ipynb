{
 "nbformat": 4,
 "nbformat_minor": 2,
 "metadata": {
  "language_info": {
   "name": "python",
   "codemirror_mode": {
    "name": "ipython",
    "version": 3
   },
   "version": "3.8.1-final"
  },
  "orig_nbformat": 2,
  "file_extension": ".py",
  "mimetype": "text/x-python",
  "name": "python",
  "npconvert_exporter": "python",
  "pygments_lexer": "ipython3",
  "version": 3,
  "kernelspec": {
   "name": "python3",
   "display_name": "Python 3"
  }
 },
 "cells": [
  {
   "cell_type": "code",
   "execution_count": 1,
   "metadata": {},
   "outputs": [],
   "source": [
    "# 分析Market_Basket 物品分类中的频繁项集和关联规则\n",
    "import pandas as pd\n",
    "from mlxtend.frequent_patterns import apriori\n",
    "from mlxtend.frequent_patterns import association_rules"
   ]
  },
  {
   "cell_type": "code",
   "execution_count": 2,
   "metadata": {},
   "outputs": [
    {
     "name": "stdout",
     "output_type": "stream",
     "text": "-------------------- 频繁项集 --------------------\n     support                            itemsets\n25  0.238368                     (mineral water)\n11  0.179709                              (eggs)\n31  0.174110                         (spaghetti)\n13  0.170911                      (french fries)\n7   0.163845                         (chocolate)\n18  0.132116                         (green tea)\n24  0.129583                              (milk)\n19  0.098254                       (ground beef)\n16  0.095321                 (frozen vegetables)\n27  0.095054                          (pancakes)\n2   0.087188                           (burgers)\n4   0.081056                              (cake)\n8   0.080389                           (cookies)\n12  0.079323                          (escalope)\n23  0.076523                    (low fat yogurt)\n29  0.071457                            (shrimp)\n33  0.068391                          (tomatoes)\n26  0.065858                         (olive oil)\n15  0.063325                   (frozen smoothie)\n34  0.062525                            (turkey)\n6   0.059992                           (chicken)\n53  0.059725          (spaghetti, mineral water)\n35  0.058526                  (whole wheat rice)\n39  0.052660          (chocolate, mineral water)\n17  0.052393                     (grated cheese)\n9   0.051060                       (cooking oil)\n43  0.050927               (eggs, mineral water)\n30  0.050527                              (soup)\n20  0.049460                     (herb & pepper)\n50  0.047994               (mineral water, milk)\n21  0.047460                             (honey)\n5   0.046794                         (champagne)\n14  0.043061                       (fresh bread)\n28  0.042528                            (salmon)\n48  0.040928        (ground beef, mineral water)\n49  0.039195            (ground beef, spaghetti)\n40  0.039195              (spaghetti, chocolate)\n44  0.036528                   (spaghetti, eggs)\n41  0.036395                (eggs, french fries)\n46  0.035729  (frozen vegetables, mineral water)\n51  0.035462                   (spaghetti, milk)\n37  0.034395           (french fries, chocolate)\n52  0.033729           (pancakes, mineral water)\n1   0.033729                          (brownies)\n45  0.033729       (french fries, mineral water)\n0   0.033329                           (avocado)\n36  0.033196                   (eggs, chocolate)\n22  0.032396                          (hot dogs)\n38  0.032129                   (chocolate, milk)\n10  0.031862                    (cottage cheese)\n47  0.031063          (green tea, mineral water)\n42  0.030796                        (eggs, milk)\n32  0.030396                      (tomato juice)\n3   0.030129                            (butter)\n总共54项\n-------------------- 关联规则 --------------------\n            antecedents          consequents  antecedent support  \\\n5           (spaghetti)        (ground beef)            0.174110   \n4         (ground beef)          (spaghetti)            0.098254   \n3       (mineral water)        (ground beef)            0.238368   \n2         (ground beef)      (mineral water)            0.098254   \n6   (frozen vegetables)      (mineral water)            0.095321   \n7       (mineral water)  (frozen vegetables)            0.238368   \n8           (spaghetti)               (milk)            0.174110   \n9                (milk)          (spaghetti)            0.129583   \n0       (mineral water)               (milk)            0.238368   \n1                (milk)      (mineral water)            0.129583   \n10          (chocolate)               (milk)            0.163845   \n11               (milk)          (chocolate)            0.129583   \n\n    consequent support   support  confidence      lift  leverage  conviction  \n5             0.098254  0.039195    0.225115  2.291162  0.022088    1.163716  \n4             0.174110  0.039195    0.398915  2.291162  0.022088    1.373997  \n3             0.098254  0.040928    0.171700  1.747522  0.017507    1.088672  \n2             0.238368  0.040928    0.416554  1.747522  0.017507    1.305401  \n6             0.238368  0.035729    0.374825  1.572463  0.013007    1.218270  \n7             0.095321  0.035729    0.149888  1.572463  0.013007    1.064189  \n8             0.129583  0.035462    0.203675  1.571779  0.012900    1.093043  \n9             0.174110  0.035462    0.273663  1.571779  0.012900    1.137061  \n0             0.129583  0.047994    0.201342  1.553774  0.017105    1.089850  \n1             0.238368  0.047994    0.370370  1.553774  0.017105    1.209650  \n10            0.129583  0.032129    0.196094  1.513276  0.010898    1.082736  \n11            0.163845  0.032129    0.247942  1.513276  0.010898    1.111823  \n"
    }
   ],
   "source": [
    "# 数据加载\n",
    "basket = pd.read_csv('./Market_Basket_Optimisation.csv', header=None)\n",
    "# print(basket.head())\n",
    "\n",
    "# 进行one-hot编码（离散特征有多少取值，就用多少维来表示这个特征）\n",
    "basket['tmp'] = basket[0].str.cat([basket[i] for i in range(1, 20)], sep='|', na_rep='')\n",
    "basket_hot_encoded = basket.tmp.str.get_dummies(sep='|')\n",
    "basket.drop(['tmp'], axis=1, inplace=True)\n",
    "# print(basket_hot_encoded.head())\n",
    "\n",
    "# 挖掘频繁项集，最小支持度为0.02\n",
    "itemsets = apriori(basket_hot_encoded,use_colnames=True, min_support=0.03)\n",
    "# 按照支持度从大到小进行\n",
    "itemsets = itemsets.sort_values(by=\"support\" , ascending=False) \n",
    "print('-'*20, '频繁项集', '-'*20)\n",
    "print(itemsets)\n",
    "print('总共%d项' % len(itemsets))\n",
    "\n",
    "# 根据频繁项集计算关联规则，设置最小提升度为2\n",
    "rules =  association_rules(itemsets, metric='lift', min_threshold=1.5)\n",
    "# 按照提升度从大到小进行排序\n",
    "rules = rules.sort_values(by=\"lift\" , ascending=False) \n",
    "#rules.to_csv('./rules.csv')\n",
    "print('-'*20, '关联规则', '-'*20)\n",
    "print(rules)\n"
   ]
  },
  {
   "cell_type": "code",
   "execution_count": null,
   "metadata": {},
   "outputs": [],
   "source": []
  }
 ]
}