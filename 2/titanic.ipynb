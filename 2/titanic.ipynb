{
 "cells": [
  {
   "cell_type": "code",
   "execution_count": 20,
   "metadata": {},
   "outputs": [],
   "source": [
    "import numpy as np\n",
    "import pandas as pd\n",
    "\n",
    "from sklearn.feature_extraction import DictVectorizer\n",
    "from sklearn.model_selection import cross_val_score\n",
    "from sklearn import metrics\n",
    "from sklearn import preprocessing\n",
    "\n",
    "from sklearn.svm import SVC # SVM\n",
    "from sklearn.linear_model import LogisticRegression # 逻辑回归\n",
    "from sklearn.tree import DecisionTreeClassifier # 决策树\n",
    "from sklearn.naive_bayes import GaussianNB, MultinomialNB, BernoulliNB # 高斯朴素贝叶斯 GaussianNB/MultinomialNB/BernoulliNB\n",
    "from sklearn.neighbors import KNeighborsClassifier # KNN\n",
    "from sklearn.ensemble import  AdaBoostClassifier # AdaBoost\n",
    "from sklearn.discriminant_analysis import LinearDiscriminantAnalysis  \n",
    "\n",
    "from tpot import TPOTClassifier"
   ]
  },
  {
   "cell_type": "code",
   "execution_count": 21,
   "metadata": {},
   "outputs": [],
   "source": [
    "# 数据加载\n",
    "train_data = pd.read_csv('./train.csv')\n",
    "test_data = pd.read_csv('./test.csv')"
   ]
  },
  {
   "cell_type": "code",
   "execution_count": 22,
   "metadata": {
    "scrolled": true
   },
   "outputs": [
    {
     "name": "stdout",
     "output_type": "stream",
     "text": [
      "查看数据信息：列名、非空个数、类型等\n",
      "<class 'pandas.core.frame.DataFrame'>\n",
      "RangeIndex: 891 entries, 0 to 890\n",
      "Data columns (total 12 columns):\n",
      " #   Column       Non-Null Count  Dtype  \n",
      "---  ------       --------------  -----  \n",
      " 0   PassengerId  891 non-null    int64  \n",
      " 1   Survived     891 non-null    int64  \n",
      " 2   Pclass       891 non-null    int64  \n",
      " 3   Name         891 non-null    object \n",
      " 4   Sex          891 non-null    object \n",
      " 5   Age          714 non-null    float64\n",
      " 6   SibSp        891 non-null    int64  \n",
      " 7   Parch        891 non-null    int64  \n",
      " 8   Ticket       891 non-null    object \n",
      " 9   Fare         891 non-null    float64\n",
      " 10  Cabin        204 non-null    object \n",
      " 11  Embarked     889 non-null    object \n",
      "dtypes: float64(2), int64(5), object(5)\n",
      "memory usage: 83.7+ KB\n",
      "None\n",
      "------------------------------\n",
      "查看数据摘要\n",
      "       PassengerId    Survived      Pclass         Age       SibSp  \\\n",
      "count   891.000000  891.000000  891.000000  714.000000  891.000000   \n",
      "mean    446.000000    0.383838    2.308642   29.699118    0.523008   \n",
      "std     257.353842    0.486592    0.836071   14.526497    1.102743   \n",
      "min       1.000000    0.000000    1.000000    0.420000    0.000000   \n",
      "25%     223.500000    0.000000    2.000000   20.125000    0.000000   \n",
      "50%     446.000000    0.000000    3.000000   28.000000    0.000000   \n",
      "75%     668.500000    1.000000    3.000000   38.000000    1.000000   \n",
      "max     891.000000    1.000000    3.000000   80.000000    8.000000   \n",
      "\n",
      "            Parch        Fare  \n",
      "count  891.000000  891.000000  \n",
      "mean     0.381594   32.204208  \n",
      "std      0.806057   49.693429  \n",
      "min      0.000000    0.000000  \n",
      "25%      0.000000    7.910400  \n",
      "50%      0.000000   14.454200  \n",
      "75%      0.000000   31.000000  \n",
      "max      6.000000  512.329200  \n",
      "------------------------------\n",
      "查看离散数据分布\n",
      "                      Name   Sex Ticket    Cabin Embarked\n",
      "count                  891   891    891      204      889\n",
      "unique                 891     2    681      147        3\n",
      "top     Stranden, Mr. Juho  male   1601  B96 B98        S\n",
      "freq                     1   577      7        4      644\n",
      "------------------------------\n",
      "查看前5条数据\n",
      "   PassengerId  Survived  Pclass  \\\n",
      "0            1         0       3   \n",
      "1            2         1       1   \n",
      "2            3         1       3   \n",
      "3            4         1       1   \n",
      "4            5         0       3   \n",
      "\n",
      "                                                Name     Sex   Age  SibSp  \\\n",
      "0                            Braund, Mr. Owen Harris    male  22.0      1   \n",
      "1  Cumings, Mrs. John Bradley (Florence Briggs Th...  female  38.0      1   \n",
      "2                             Heikkinen, Miss. Laina  female  26.0      0   \n",
      "3       Futrelle, Mrs. Jacques Heath (Lily May Peel)  female  35.0      1   \n",
      "4                           Allen, Mr. William Henry    male  35.0      0   \n",
      "\n",
      "   Parch            Ticket     Fare Cabin Embarked  \n",
      "0      0         A/5 21171   7.2500   NaN        S  \n",
      "1      0          PC 17599  71.2833   C85        C  \n",
      "2      0  STON/O2. 3101282   7.9250   NaN        S  \n",
      "3      0            113803  53.1000  C123        S  \n",
      "4      0            373450   8.0500   NaN        S  \n",
      "------------------------------\n",
      "查看后5条数据\n",
      "     PassengerId  Survived  Pclass                                      Name  \\\n",
      "886          887         0       2                     Montvila, Rev. Juozas   \n",
      "887          888         1       1              Graham, Miss. Margaret Edith   \n",
      "888          889         0       3  Johnston, Miss. Catherine Helen \"Carrie\"   \n",
      "889          890         1       1                     Behr, Mr. Karl Howell   \n",
      "890          891         0       3                       Dooley, Mr. Patrick   \n",
      "\n",
      "        Sex   Age  SibSp  Parch      Ticket   Fare Cabin Embarked  \n",
      "886    male  27.0      0      0      211536  13.00   NaN        S  \n",
      "887  female  19.0      0      0      112053  30.00   B42        S  \n",
      "888  female   NaN      1      2  W./C. 6607  23.45   NaN        S  \n",
      "889    male  26.0      0      0      111369  30.00  C148        C  \n",
      "890    male  32.0      0      0      370376   7.75   NaN        Q  \n"
     ]
    }
   ],
   "source": [
    "# 数据探索\n",
    "# 查看train_data信息\n",
    "#pd.set_option('display.max_columns', None) #显示所有列\n",
    "\n",
    "print('查看数据信息：列名、非空个数、类型等')\n",
    "\n",
    "print(train_data.info())\n",
    "\n",
    "print('-'*30)\n",
    "\n",
    "print('查看数据摘要')\n",
    "\n",
    "print(train_data.describe())\n",
    "\n",
    "print('-'*30)\n",
    "\n",
    "print('查看离散数据分布')\n",
    "\n",
    "print(train_data.describe(include=['O']))\n",
    "\n",
    "print('-'*30)\n",
    "\n",
    "print('查看前5条数据')\n",
    "\n",
    "print(train_data.head())\n",
    "\n",
    "print('-'*30)\n",
    "\n",
    "print('查看后5条数据')\n",
    "\n",
    "print(train_data.tail())\n"
   ]
  },
  {
   "cell_type": "code",
   "execution_count": 23,
   "metadata": {},
   "outputs": [
    {
     "name": "stdout",
     "output_type": "stream",
     "text": [
      "S    644\n",
      "C    168\n",
      "Q     77\n",
      "Name: Embarked, dtype: int64\n"
     ]
    }
   ],
   "source": [
    "# 使用平均年龄来填充年龄中的nan值\n",
    "\n",
    "train_data['Age'].fillna(train_data['Age'].mean(), inplace=True)\n",
    "\n",
    "test_data['Age'].fillna(test_data['Age'].mean(),inplace=True)\n",
    "\n",
    "\n",
    "# 使用票价的均值填充票价中的nan值\n",
    "\n",
    "train_data['Fare'].fillna(train_data['Fare'].mean(), inplace=True)\n",
    "\n",
    "test_data['Fare'].fillna(test_data['Fare'].mean(),inplace=True)\n",
    "\n",
    "\n",
    "print(train_data['Embarked'].value_counts())\n",
    "\n",
    "# 使用登录最多的港口来填充登录港口的nan值\n",
    "\n",
    "train_data['Embarked'].fillna('S', inplace=True)\n",
    "\n",
    "test_data['Embarked'].fillna('S',inplace=True)"
   ]
  },
  {
   "cell_type": "code",
   "execution_count": 24,
   "metadata": {
    "scrolled": true
   },
   "outputs": [
    {
     "name": "stdout",
     "output_type": "stream",
     "text": [
      "特征值\n",
      "     Pclass     Sex        Age  SibSp  Parch     Fare Embarked\n",
      "0         3    male  22.000000      1      0   7.2500        S\n",
      "1         1  female  38.000000      1      0  71.2833        C\n",
      "2         3  female  26.000000      0      0   7.9250        S\n",
      "3         1  female  35.000000      1      0  53.1000        S\n",
      "4         3    male  35.000000      0      0   8.0500        S\n",
      "..      ...     ...        ...    ...    ...      ...      ...\n",
      "886       2    male  27.000000      0      0  13.0000        S\n",
      "887       1  female  19.000000      0      0  30.0000        S\n",
      "888       3  female  29.699118      1      2  23.4500        S\n",
      "889       1    male  26.000000      0      0  30.0000        C\n",
      "890       3    male  32.000000      0      0   7.7500        Q\n",
      "\n",
      "[891 rows x 7 columns]\n"
     ]
    }
   ],
   "source": [
    "# 特征选择\n",
    "\n",
    "features = ['Pclass', 'Sex', 'Age', 'SibSp', 'Parch', 'Fare', 'Embarked']\n",
    "\n",
    "train_features = train_data[features]\n",
    "\n",
    "train_labels = train_data['Survived']\n",
    "\n",
    "test_features = test_data[features]\n",
    "\n",
    "print('特征值')\n",
    "\n",
    "print(train_features)"
   ]
  },
  {
   "cell_type": "code",
   "execution_count": 25,
   "metadata": {},
   "outputs": [
    {
     "name": "stdout",
     "output_type": "stream",
     "text": [
      "['Age', 'Embarked=C', 'Embarked=Q', 'Embarked=S', 'Fare', 'Parch', 'Pclass', 'Sex=female', 'Sex=male', 'SibSp']\n"
     ]
    }
   ],
   "source": [
    "dvec=DictVectorizer(sparse=False)\n",
    "\n",
    "train_features=dvec.fit_transform(train_features.to_dict(orient='record'))\n",
    "test_features=dvec.transform(test_features.to_dict(orient='record'))\n",
    "\n",
    "print(dvec.feature_names_)"
   ]
  },
  {
   "cell_type": "code",
   "execution_count": 26,
   "metadata": {},
   "outputs": [],
   "source": [
    "# 特征归一化\n",
    "scaler = preprocessing.StandardScaler()\n",
    "train_features = scaler.fit_transform(train_features)\n",
    "test_features = scaler.fit_transform(test_features)"
   ]
  },
  {
   "cell_type": "code",
   "execution_count": 28,
   "metadata": {},
   "outputs": [
    {
     "name": "stdout",
     "output_type": "stream",
     "text": [
      "score准确率为 0.7890\n",
      "cross_val_score准确率为 0.7867\n"
     ]
    },
    {
     "name": "stderr",
     "output_type": "stream",
     "text": [
      "G:\\miniconda\\envs\\rs\\lib\\site-packages\\sklearn\\svm\\_base.py:228: ConvergenceWarning: Solver terminated early (max_iter=1000).  Consider pre-processing your data with StandardScaler or MinMaxScaler.\n",
      "  warnings.warn('Solver terminated early (max_iter=%i).'\n",
      "G:\\miniconda\\envs\\rs\\lib\\site-packages\\sklearn\\svm\\_base.py:228: ConvergenceWarning: Solver terminated early (max_iter=1000).  Consider pre-processing your data with StandardScaler or MinMaxScaler.\n",
      "  warnings.warn('Solver terminated early (max_iter=%i).'\n",
      "G:\\miniconda\\envs\\rs\\lib\\site-packages\\sklearn\\svm\\_base.py:228: ConvergenceWarning: Solver terminated early (max_iter=1000).  Consider pre-processing your data with StandardScaler or MinMaxScaler.\n",
      "  warnings.warn('Solver terminated early (max_iter=%i).'\n",
      "G:\\miniconda\\envs\\rs\\lib\\site-packages\\sklearn\\svm\\_base.py:228: ConvergenceWarning: Solver terminated early (max_iter=1000).  Consider pre-processing your data with StandardScaler or MinMaxScaler.\n",
      "  warnings.warn('Solver terminated early (max_iter=%i).'\n",
      "G:\\miniconda\\envs\\rs\\lib\\site-packages\\sklearn\\svm\\_base.py:228: ConvergenceWarning: Solver terminated early (max_iter=1000).  Consider pre-processing your data with StandardScaler or MinMaxScaler.\n",
      "  warnings.warn('Solver terminated early (max_iter=%i).'\n",
      "G:\\miniconda\\envs\\rs\\lib\\site-packages\\sklearn\\svm\\_base.py:228: ConvergenceWarning: Solver terminated early (max_iter=1000).  Consider pre-processing your data with StandardScaler or MinMaxScaler.\n",
      "  warnings.warn('Solver terminated early (max_iter=%i).'\n",
      "G:\\miniconda\\envs\\rs\\lib\\site-packages\\sklearn\\svm\\_base.py:228: ConvergenceWarning: Solver terminated early (max_iter=1000).  Consider pre-processing your data with StandardScaler or MinMaxScaler.\n",
      "  warnings.warn('Solver terminated early (max_iter=%i).'\n",
      "G:\\miniconda\\envs\\rs\\lib\\site-packages\\sklearn\\svm\\_base.py:228: ConvergenceWarning: Solver terminated early (max_iter=1000).  Consider pre-processing your data with StandardScaler or MinMaxScaler.\n",
      "  warnings.warn('Solver terminated early (max_iter=%i).'\n"
     ]
    }
   ],
   "source": [
    "# 构造svm\n",
    "\n",
    "# clf = SVC(kernel='rbf', C=1.0, gamma='auto')\n",
    "clf = SVC(kernel='linear', max_iter=1000)\n",
    "# 训练\n",
    "\n",
    "clf.fit(train_features, train_labels)\n",
    "\n",
    "\n",
    "# 预测\n",
    "\n",
    "pred_labels = clf.predict(test_features)\n",
    "\n",
    "\n",
    "\n",
    "# 得到准确率(基于训练集)\n",
    "\n",
    "acc_decision_tree = round(clf.score(train_features, train_labels), 6)\n",
    "\n",
    "print(u'score准确率为 %.4lf' % acc_decision_tree)\n",
    "\n",
    "\n",
    "\n",
    "# 使用K折交叉验证 统计准确率\n",
    "\n",
    "print(u'cross_val_score准确率为 %.4lf' % np.mean(cross_val_score(clf, train_features, train_labels, cv=10)))"
   ]
  },
  {
   "cell_type": "code",
   "execution_count": 14,
   "metadata": {},
   "outputs": [
    {
     "name": "stdout",
     "output_type": "stream",
     "text": [
      "score准确率为 0.8002\n",
      "cross_val_score准确率为 0.7957\n"
     ]
    }
   ],
   "source": [
    "# 构造lr\n",
    "\n",
    "clf = LogisticRegression(solver='liblinear', multi_class='auto') #数据集比较小，使用liblinear，数据集大使用 sag或者saga\n",
    "clf.fit(train_features, train_labels)\n",
    "\n",
    "# 预测\n",
    "\n",
    "pred_labels = clf.predict(test_features)\n",
    "\n",
    "\n",
    "\n",
    "# 得到准确率(基于训练集)\n",
    "\n",
    "acc_decision_tree = round(clf.score(train_features, train_labels), 6)\n",
    "\n",
    "print(u'score准确率为 %.4lf' % acc_decision_tree)\n",
    "\n",
    "\n",
    "\n",
    "# 使用K折交叉验证 统计准确率\n",
    "\n",
    "print(u'cross_val_score准确率为 %.4lf' % np.mean(cross_val_score(clf, train_features, train_labels, cv=10)))"
   ]
  },
  {
   "cell_type": "code",
   "execution_count": 15,
   "metadata": {},
   "outputs": [
    {
     "name": "stdout",
     "output_type": "stream",
     "text": [
      "score准确率为 0.7912\n",
      "cross_val_score准确率为 0.7845\n"
     ]
    }
   ],
   "source": [
    "# 构造贝叶斯分类器\n",
    "\n",
    "clf = GaussianNB()\n",
    "clf.fit(train_features, train_labels)\n",
    "\n",
    "# 预测\n",
    "\n",
    "pred_labels = clf.predict(test_features)\n",
    "\n",
    "\n",
    "\n",
    "# 得到准确率(基于训练集)\n",
    "\n",
    "acc_decision_tree = round(clf.score(train_features, train_labels), 6)\n",
    "\n",
    "print(u'score准确率为 %.4lf' % acc_decision_tree)\n",
    "\n",
    "\n",
    "\n",
    "# 使用K折交叉验证 统计准确率\n",
    "\n",
    "print(u'cross_val_score准确率为 %.4lf' % np.mean(cross_val_score(clf, train_features, train_labels, cv=10)))"
   ]
  },
  {
   "cell_type": "code",
   "execution_count": 16,
   "metadata": {},
   "outputs": [
    {
     "name": "stdout",
     "output_type": "stream",
     "text": [
      "score准确率为 0.8575\n",
      "cross_val_score准确率为 0.8014\n"
     ]
    }
   ],
   "source": [
    "# 构造KNN分类器\n",
    "\n",
    "clf = KNeighborsClassifier()\n",
    "clf.fit(train_features, train_labels)\n",
    "\n",
    "# 预测\n",
    "\n",
    "pred_labels = clf.predict(test_features)\n",
    "\n",
    "\n",
    "\n",
    "# 得到准确率(基于训练集)\n",
    "\n",
    "acc_decision_tree = round(clf.score(train_features, train_labels), 6)\n",
    "\n",
    "print(u'score准确率为 %.4lf' % acc_decision_tree)\n",
    "\n",
    "\n",
    "\n",
    "# 使用K折交叉验证 统计准确率\n",
    "\n",
    "print(u'cross_val_score准确率为 %.4lf' % np.mean(cross_val_score(clf, train_features, train_labels, cv=10)))"
   ]
  },
  {
   "cell_type": "code",
   "execution_count": 17,
   "metadata": {},
   "outputs": [
    {
     "name": "stdout",
     "output_type": "stream",
     "text": [
      "score准确率为 0.7991\n",
      "cross_val_score准确率为 0.7924\n"
     ]
    }
   ],
   "source": [
    "# 构造LDA\n",
    "\n",
    "clf =model = LinearDiscriminantAnalysis(n_components=1)\n",
    "\n",
    "clf.fit(train_features, train_labels)\n",
    "\n",
    "# 预测\n",
    "\n",
    "pred_labels = clf.predict(test_features)\n",
    "\n",
    "\n",
    "\n",
    "# 得到准确率(基于训练集)\n",
    "\n",
    "acc_decision_tree = round(clf.score(train_features, train_labels), 6)\n",
    "\n",
    "print(u'score准确率为 %.4lf' % acc_decision_tree)\n",
    "\n",
    "\n",
    "\n",
    "# 使用K折交叉验证 统计准确率\n",
    "\n",
    "print(u'cross_val_score准确率为 %.4lf' % np.mean(cross_val_score(clf, train_features, train_labels, cv=10)))"
   ]
  },
  {
   "cell_type": "code",
   "execution_count": 18,
   "metadata": {},
   "outputs": [
    {
     "name": "stdout",
     "output_type": "stream",
     "text": [
      "score准确率为 0.9820\n",
      "cross_val_score准确率为 0.7767\n"
     ]
    }
   ],
   "source": [
    "# 构造ID3决策树\n",
    "\n",
    "clf = DecisionTreeClassifier(criterion='entropy')\n",
    "\n",
    "# 训练\n",
    "\n",
    "clf.fit(train_features, train_labels)\n",
    "\n",
    "\n",
    "# 预测\n",
    "\n",
    "pred_labels = clf.predict(test_features)\n",
    "\n",
    "\n",
    "\n",
    "# 得到准确率(基于训练集)\n",
    "\n",
    "acc_decision_tree = round(clf.score(train_features, train_labels), 6)\n",
    "\n",
    "print(u'score准确率为 %.4lf' % acc_decision_tree)\n",
    "\n",
    "\n",
    "# 使用K折交叉验证 统计准确率\n",
    "\n",
    "print(u'cross_val_score准确率为 %.4lf' % np.mean(cross_val_score(clf, train_features, train_labels, cv=10)))"
   ]
  },
  {
   "cell_type": "code",
   "execution_count": 19,
   "metadata": {},
   "outputs": [
    {
     "name": "stdout",
     "output_type": "stream",
     "text": [
      "Warning: xgboost.XGBClassifier is not available and will not be used by TPOT.\n"
     ]
    },
    {
     "data": {
      "application/vnd.jupyter.widget-view+json": {
       "model_id": "",
       "version_major": 2,
       "version_minor": 0
      },
      "text/plain": [
       "HBox(children=(FloatProgress(value=0.0, description='Optimization Progress', max=120.0, style=ProgressStyle(de…"
      ]
     },
     "metadata": {},
     "output_type": "display_data"
    },
    {
     "name": "stdout",
     "output_type": "stream",
     "text": [
      "Generation 1 - Current best internal CV score: 0.8260686711443098\n",
      "Generation 2 - Current best internal CV score: 0.8282970309459543\n",
      "Generation 3 - Current best internal CV score: 0.8282970309459543\n",
      "Generation 4 - Current best internal CV score: 0.832803967108154\n",
      "Generation 5 - Current best internal CV score: 0.838390559286925\n",
      "\n",
      "Best pipeline: GradientBoostingClassifier(VarianceThreshold(CombineDFs(input_matrix, input_matrix), threshold=0.005), learning_rate=0.1, max_depth=9, max_features=0.25, min_samples_leaf=12, min_samples_split=5, n_estimators=100, subsample=0.25)\n"
     ]
    },
    {
     "data": {
      "text/plain": [
       "TPOTClassifier(config_dict=None, crossover_rate=0.1, cv=5,\n",
       "               disable_update_check=False, early_stop=None, generations=5,\n",
       "               max_eval_time_mins=5, max_time_mins=None, memory=None,\n",
       "               mutation_rate=0.9, n_jobs=1, offspring_size=None,\n",
       "               periodic_checkpoint_folder=None, population_size=20,\n",
       "               random_state=None, scoring=None, subsample=1.0, template=None,\n",
       "               use_dask=False, verbosity=2, warm_start=False)"
      ]
     },
     "execution_count": 19,
     "metadata": {},
     "output_type": "execute_result"
    }
   ],
   "source": [
    "# 构造TPOT\n",
    "\n",
    "clf = TPOTClassifier(generations=5, population_size=20, verbosity=2)\n",
    "\n",
    "# 训练\n",
    "\n",
    "clf.fit(train_features, train_labels)"
   ]
  },
  {
   "cell_type": "code",
   "execution_count": null,
   "metadata": {},
   "outputs": [],
   "source": []
  }
 ],
 "metadata": {
  "kernelspec": {
   "display_name": "Python 3",
   "language": "python",
   "name": "python3"
  },
  "language_info": {
   "codemirror_mode": {
    "name": "ipython",
    "version": 3
   },
   "file_extension": ".py",
   "mimetype": "text/x-python",
   "name": "python",
   "nbconvert_exporter": "python",
   "pygments_lexer": "ipython3",
   "version": "3.8.1"
  }
 },
 "nbformat": 4,
 "nbformat_minor": 4
}
